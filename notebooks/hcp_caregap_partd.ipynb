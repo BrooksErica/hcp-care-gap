{
  "nbformat": 4,
  "nbformat_minor": 0,
  "metadata": {
    "colab": {
      "provenance": []
    },
    "kernelspec": {
      "name": "python3",
      "display_name": "Python 3"
    },
    "language_info": {
      "name": "python"
    }
  },
  "cells": [
    {
      "cell_type": "code",
      "execution_count": null,
      "metadata": {
        "id": "zcelsk1swoly"
      },
      "outputs": [],
      "source": [
        "#import libraries\n",
        "\n",
        "import pandas as pd\n",
        "import matplotlib.pyplot as plt\n",
        "from pathlib import Path\n",
        "import re"
      ]
    },
    {
      "cell_type": "code",
      "source": [
        "#dataset\n",
        "\n",
        "RAW = \"/content/drive/MyDrive/Medicare_Part_D_Prescribers_by_Provider_and_Drug_2023.csv\"\n",
        "CHUNKSIZE = 250_000\n",
        "\n",
        "USECOLS = [\"Prscrbr_NPI\",\"Prscrbr_Type\",\"Prscrbr_State_Abrvtn\",\"Gnrc_Name\",\"Brnd_Name\",\"Tot_Clms\",\"Tot_Benes\"]\n",
        "\n",
        "#OUT_INTERMEDIATE = \"Users/ericabrooks/Documents/BioTech_ML/projects/Care-Gap HCP Segmentation/data/intermediate/diabetes_rows.parquet\"\n",
        "#OUT_FINAL        = \"Users/ericabrooks/Documents/BioTech_ML/projects/Care-Gap HCP Segmentation/data/out/hcp_caregap_features.csv\"\n",
        "\n",
        "OUT_INTERMEDIATE = \"data/intermediate/diabetes_rows.parquet\"\n",
        "OUT_FINAL        = \"data/out/hcp_caregap_features.csv\"\n",
        "\n",
        "Path(\"data/raw\").mkdir(parents=True, exist_ok=True)\n",
        "Path(\"data/intermediate\").mkdir(parents=True, exist_ok=True)\n",
        "Path(\"data/out\").mkdir(parents=True, exist_ok=True)\n"
      ],
      "metadata": {
        "id": "UE1X_O0TxmU3"
      },
      "execution_count": null,
      "outputs": []
    },
    {
      "cell_type": "code",
      "source": [
        "#normalization\n",
        "\n",
        "def norm_name(s: str) -> str:\n",
        "    \"\"\"lowercase, remove punctuation, strip dosage/salt suffixes\"\"\"\n",
        "    if not isinstance(s, str): return \"\"\n",
        "    s = s.lower()\n",
        "    s = re.sub(r\"[^a-z0-9\\s/+\\-]\", \" \", s)\n",
        "    s = re.sub(r\"\\s+\", \" \", s).strip()\n",
        "    tails = [\" hcl\",\" hydrochloride\",\" sodium\",\" phosphate\",\" sulfate\",\n",
        "             \" er\",\" xr\",\" sr\",\" dr\",\" cr\",\" extended release\",\" mr\",\" odt\"]\n",
        "    for t in tails:\n",
        "        if s.endswith(t):\n",
        "            s = s[:-len(t)]\n",
        "    return s\n",
        "\n",
        "def split_combo(norm_generic_or_brand: str) -> list[str]:\n",
        "    \"\"\"split combination drugs into components; tolerate separators\"\"\"\n",
        "    if not norm_generic_or_brand: return []\n",
        "    s = norm_generic_or_brand.replace(\"+\", \"/\").replace(\" and \", \"/\").replace(\" with \", \"/\")\n",
        "    parts = re.split(r\"[\\/\\-]\", s)\n",
        "    parts = [p.strip() for p in parts if p.strip()]\n",
        "    return parts"
      ],
      "metadata": {
        "id": "RYoAC6XlR8Oc"
      },
      "execution_count": null,
      "outputs": []
    },
    {
      "cell_type": "code",
      "source": [
        "#vocab and combos\n",
        "\n",
        "FIRST_LINE = {\"metformin\",\"glucophage\",\"fortamet\",\"glumetza\",\"riomet\"}\n",
        "\n",
        "SULFONYLUREA = {\"glipizide\",\"glyburide\",\"glimepiride\",\"chlorpropamide\",\"tolazamide\",\"tolbutamide\"}\n",
        "MEGLITINIDE  = {\"repaglinide\",\"nateglinide\"}\n",
        "ALPHA_GLU    = {\"acarbose\",\"miglitol\"}\n",
        "TZD          = {\"pioglitazone\",\"rosiglitazone\",\"actos\",\"avandia\"}\n",
        "\n",
        "# DPP-4 (you can treat as innovative or keep separate; here we include in innovative)\n",
        "DPP4 = {\"sitagliptin\",\"saxagliptin\",\"linagliptin\",\"alogliptin\",\"januvia\",\"onglyza\",\"tradjenta\",\"nesina\"}\n",
        "\n",
        "# GLP-1\n",
        "GLP1 = {\"semaglutide\",\"liraglutide\",\"dulaglutide\",\"exenatide\",\"lixisenatide\",\"ozempic\",\"rybelsus\",\"victoza\",\"trulicity\",\"bydureon\",\"byetta\",\"adlyxin\"}\n",
        "\n",
        "# GIP/GLP-1 dual\n",
        "DUAL_GLP1_GIP = {\"tirzepatide\",\"mounjaro\"}  # add brands as needed\n",
        "\n",
        "# SGLT2\n",
        "SGLT2 = {\"empagliflozin\",\"dapagliflozin\",\"canagliflozin\",\"ertugliflozin\",\"jardiance\",\"farxiga\",\"invokana\",\"steglatro\"}\n",
        "\n",
        "# Insulins (token list; covers brands & molecule stems)\n",
        "INSULIN_TOKENS = {\"insulin\",\"degludec\",\"glargine\",\"detemir\",\"aspart\",\"lispro\",\"glulisine\",\"nph\",\"regular\",\n",
        "                  \"lantus\",\"toujeo\",\"basaglar\",\"tresiba\",\"levemir\",\"novolog\",\"humalog\",\"apidra\",\"fiasp\",\"humulin\",\"novolin\"}\n",
        "\n",
        "def token_to_category(token: str) -> str:\n",
        "    \"\"\"map a single molecule/brand token to a high-level category\"\"\"\n",
        "    if token in FIRST_LINE or token.startswith(\"metformin\"):              return \"first_line\"\n",
        "    if token in GLP1 or token in DUAL_GLP1_GIP:                           return \"innovative\"\n",
        "    if token in SGLT2:                                                    return \"innovative\"\n",
        "    if token in DPP4:                                                     return \"dpp4\"\n",
        "    if token in SULFONYLUREA or token in MEGLITINIDE or token in ALPHA_GLU: return \"legacy\"\n",
        "    if token in TZD:                                                      return \"tzd\"\n",
        "    if token in INSULIN_TOKENS or token.startswith(\"insulin\"):            return \"insulin\"\n",
        "    return \"other\"\n",
        "\n",
        "def row_categories(gnrc: str, brnd: str) -> list[str]:\n",
        "    \"\"\"derive categories from generic/brand, handling combos and unknowns\"\"\"\n",
        "    name = norm_name(gnrc) if (isinstance(gnrc, str) and gnrc.strip()) else norm_name(brnd)\n",
        "    parts = split_combo(name)\n",
        "    if not parts and name:\n",
        "        parts = name.split()  # fallback simple tokenization\n",
        "    cats = [token_to_category(p) for p in parts]\n",
        "    cats = [c for c in cats if c != \"other\"]\n",
        "    return cats\n",
        "\n",
        "def apportion(total: float, k: int):\n",
        "    \"\"\"split a count evenly across k components\"\"\"\n",
        "    if k <= 0: return []\n",
        "    share = float(total) / k\n",
        "    return [share] * k\n",
        "\n"
      ],
      "metadata": {
        "id": "JBGcfRZFSTMK"
      },
      "execution_count": null,
      "outputs": []
    },
    {
      "cell_type": "code",
      "source": [
        "# ============= PASS 1: STREAM + MAP + PRE-AGG =============\n",
        "chunked_frames = []\n",
        "reader = pd.read_csv(RAW, usecols=USECOLS, chunksize=CHUNKSIZE, dtype=str, low_memory=False)\n",
        "\n",
        "for i, chunk in enumerate(reader, 1):\n",
        "    # numeric coercion\n",
        "    for c in [\"Tot_Clms\",\"Tot_Benes\"]:\n",
        "        chunk[c] = pd.to_numeric(chunk[c], errors=\"coerce\").fillna(0)\n",
        "\n",
        "    # build compact rows with apportioning for combos\n",
        "    rows = []\n",
        "    for _, r in chunk.iterrows():\n",
        "        cats = row_categories(r[\"Gnrc_Name\"], r[\"Brnd_Name\"])\n",
        "        if not cats:\n",
        "            continue\n",
        "        k = len(cats)\n",
        "        clm_shares  = apportion(r[\"Tot_Clms\"],  k)\n",
        "        bene_shares = apportion(r[\"Tot_Benes\"], k)\n",
        "        for cat, cs, bs in zip(cats, clm_shares, bene_shares):\n",
        "            rows.append((\n",
        "                r[\"Prscrbr_NPI\"], r[\"Prscrbr_Type\"], r[\"Prscrbr_State_Abrvtn\"],\n",
        "                cat, cs, bs\n",
        "            ))\n",
        "\n",
        "    if not rows:\n",
        "        continue\n",
        "\n",
        "    chunk_out = pd.DataFrame(\n",
        "        rows,\n",
        "        columns=[\"npi\",\"specialty_description\",\"nppes_provider_state\",\n",
        "                 \"drug_category\",\"total_claim_count\",\"bene_count\"]\n",
        "    )\n",
        "\n",
        "    # pre-aggregate within chunk (reduces memory before concatenation)\n",
        "    g = (chunk_out.groupby(\n",
        "            [\"npi\",\"specialty_description\",\"nppes_provider_state\",\"drug_category\"],\n",
        "            dropna=False\n",
        "         )\n",
        "         .agg(total_claim_count=(\"total_claim_count\",\"sum\"),\n",
        "              bene_count=(\"bene_count\",\"sum\"))\n",
        "         .reset_index())\n",
        "    chunked_frames.append(g)\n",
        "\n",
        "    if i % 10 == 0:\n",
        "        print(f\"[pass1] processed {i} chunks…\")\n",
        "\n",
        "# combine and aggregate across all chunks\n",
        "if chunked_frames:\n",
        "    agg = pd.concat(chunked_frames, ignore_index=True)\n",
        "    agg = (agg.groupby(\n",
        "                [\"npi\",\"specialty_description\",\"nppes_provider_state\",\"drug_category\"],\n",
        "                dropna=False\n",
        "           )\n",
        "           .agg(total_claim_count=(\"total_claim_count\",\"sum\"),\n",
        "                bene_count=(\"bene_count\",\"sum\"))\n",
        "           .reset_index())\n",
        "else:\n",
        "    agg = pd.DataFrame(columns=[\n",
        "        \"npi\",\"specialty_description\",\"nppes_provider_state\",\"drug_category\",\n",
        "        \"total_claim_count\",\"bene_count\"\n",
        "    ])\n",
        "\n",
        "# optional: save the long-form diabetes rows for QC\n",
        "try:\n",
        "    agg.to_parquet(OUT_INTERMEDIATE, index=False)\n",
        "except Exception:\n",
        "    pass"
      ],
      "metadata": {
        "colab": {
          "base_uri": "https://localhost:8080/"
        },
        "id": "qQfeZqrvTOBW",
        "outputId": "be0cb751-f475-4ce6-ff2a-f9b147835fd3"
      },
      "execution_count": null,
      "outputs": [
        {
          "output_type": "stream",
          "name": "stdout",
          "text": [
            "[pass1] processed 10 chunks…\n",
            "[pass1] processed 20 chunks…\n",
            "[pass1] processed 30 chunks…\n",
            "[pass1] processed 40 chunks…\n",
            "[pass1] processed 50 chunks…\n",
            "[pass1] processed 60 chunks…\n",
            "[pass1] processed 70 chunks…\n",
            "[pass1] processed 80 chunks…\n",
            "[pass1] processed 90 chunks…\n",
            "[pass1] processed 100 chunks…\n"
          ]
        }
      ]
    },
    {
      "cell_type": "code",
      "source": [
        "# ============= PASS 2: PIVOT TO PHYSICIAN (WIDE) =============\n",
        "hcp = agg.pivot_table(\n",
        "    index=[\"npi\",\"specialty_description\",\"nppes_provider_state\"],\n",
        "    columns=\"drug_category\",\n",
        "    values=\"total_claim_count\",\n",
        "    aggfunc=\"sum\",\n",
        "    fill_value=0\n",
        ").reset_index()\n",
        "hcp.columns.name = None\n",
        "\n",
        "# patient volume (beneficiaries) across categories\n",
        "bene = agg.pivot_table(\n",
        "    index=[\"npi\",\"specialty_description\",\"nppes_provider_state\"],\n",
        "    columns=\"drug_category\",\n",
        "    values=\"bene_count\",\n",
        "    aggfunc=\"sum\",\n",
        "    fill_value=0\n",
        ").reset_index()\n",
        "bene.columns.name = None\n",
        "bene[\"patient_volume\"] = bene.drop(columns=[\"npi\",\"specialty_description\",\"nppes_provider_state\"]).sum(axis=1)\n",
        "\n",
        "hcp = hcp.merge(\n",
        "    bene[[\"npi\",\"specialty_description\",\"nppes_provider_state\",\"patient_volume\"]],\n",
        "    on=[\"npi\",\"specialty_description\",\"nppes_provider_state\"],\n",
        "    how=\"left\"\n",
        ")\n",
        "\n",
        "# ensure all expected category columns exist\n",
        "for col in [\"first_line\",\"innovative\", \"dpp4\",\"legacy\",\"insulin\",\"tzd\"]:\n",
        "    if col not in hcp.columns: hcp[col] = 0.0\n",
        "\n",
        "hcp[\"total_rx\"] = hcp[[\"first_line\",\"innovative\",\"dpp4\",\"legacy\",\"insulin\",\"tzd\"]].sum(axis=1)"
      ],
      "metadata": {
        "id": "0O77cvD_tr_J"
      },
      "execution_count": null,
      "outputs": []
    },
    {
      "cell_type": "code",
      "source": [
        "# ============= FEATURES & SCORES =============\n",
        "def safe_div(num, den):\n",
        "    den = den.replace(0, pd.NA)\n",
        "    return num / den\n",
        "\n",
        "hcp[\"pct_first_line\"]   = safe_div(hcp[\"first_line\"],   hcp[\"total_rx\"])\n",
        "hcp[\"pct_innovative\"]   = safe_div(hcp[\"innovative\"],   hcp[\"total_rx\"])\n",
        "hcp[\"pct_dpp4\"]         = safe_div(hcp[\"dpp4\"],         hcp[\"total_rx\"])\n",
        "hcp[\"pct_legacy\"]       = safe_div(hcp[\"legacy\"],       hcp[\"total_rx\"])\n",
        "hcp[\"pct_insulin\"]      = safe_div(hcp[\"insulin\"],      hcp[\"total_rx\"])\n",
        "hcp[\"pct_tzd\"]          = safe_div(hcp[\"tzd\"],          hcp[\"total_rx\"])\n",
        "\n",
        "eps = 1e-6\n",
        "hcp[\"care_gap_score\"]   = (hcp[\"pct_legacy\"].fillna(0) + hcp[\"pct_insulin\"].fillna(0)) / (hcp[\"pct_first_line\"].fillna(0) + eps)\n",
        "hcp[\"innovation_score\"] = hcp[\"pct_innovative\"].fillna(0)\n",
        "\n",
        "# flags (tune to your distribution later)\n",
        "hcp[\"flag_high_gap\"]        = (hcp[\"pct_first_line\"] < 0.20) & (hcp[\"pct_legacy\"] > 0.30)\n",
        "hcp[\"flag_innovator\"]       = (hcp[\"innovation_score\"] > 0.40)\n",
        "hcp[\"flag_guideline_aligned\"]= (hcp[\"pct_first_line\"] > 0.40) & (hcp[\"pct_legacy\"] < 0.15)\n",
        "\n",
        "hcp[\"flag_dpp4_heavy\"]      = (hcp[\"pct_dpp4\"] > 0.25)\n",
        "\n",
        "FINAL_COLS = [\n",
        "    \"npi\",\"specialty_description\",\"nppes_provider_state\",\n",
        "    \"total_rx\",\"patient_volume\",\n",
        "    \"first_line\",\"innovative\",\"dpp4\",\"legacy\",\"insulin\",\"tzd\",\n",
        "    \"pct_first_line\",\"pct_innovative\",\"pct_dpp4\",\"pct_legacy\",\"pct_insulin\",\"pct_tzd\",\n",
        "    \"care_gap_score\",\"innovation_score\",\n",
        "    \"flag_high_gap\",\"flag_innovator\",\"flag_guideline_aligned\", \"flag_dpp4_heavy\"\n",
        "]\n",
        "hcp = hcp[FINAL_COLS]\n",
        "\n",
        "# ============= SAVE =============\n",
        "hcp.to_csv(OUT_FINAL, index=False)\n",
        "print(f\"[done] wrote {OUT_FINAL} with {len(hcp):,} HCP rows\")"
      ],
      "metadata": {
        "colab": {
          "base_uri": "https://localhost:8080/"
        },
        "id": "wu05EglZ25NA",
        "outputId": "b0397077-dbe6-498d-b901-133d1a9a3b47"
      },
      "execution_count": null,
      "outputs": [
        {
          "output_type": "stream",
          "name": "stdout",
          "text": [
            "[done] wrote data/out/hcp_caregap_features.csv with 291,983 HCP rows\n"
          ]
        }
      ]
    }
  ]
}